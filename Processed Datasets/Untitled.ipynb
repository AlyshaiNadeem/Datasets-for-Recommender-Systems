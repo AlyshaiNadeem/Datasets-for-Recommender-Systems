{
 "cells": [
  {
   "cell_type": "code",
   "execution_count": 81,
   "metadata": {},
   "outputs": [],
   "source": [
    "import pandas as pd"
   ]
  },
  {
   "cell_type": "code",
   "execution_count": 82,
   "metadata": {},
   "outputs": [],
   "source": [
    "df = pd.read_csv('/home/costaaf/Documents/Oficina_ELD/new/vagas.csv')"
   ]
  },
  {
   "cell_type": "code",
   "execution_count": 83,
   "metadata": {},
   "outputs": [
    {
     "data": {
      "text/plain": [
       "(219, 174)"
      ]
     },
     "execution_count": 83,
     "metadata": {},
     "output_type": "execute_result"
    }
   ],
   "source": [
    "len(df.titulo), df.titulo.nunique() "
   ]
  },
  {
   "cell_type": "code",
   "execution_count": 84,
   "metadata": {},
   "outputs": [],
   "source": [
    "# def replace_lower(value):\n",
    "#     return value.lower().rstrip().lstrip()\n",
    "\n",
    "# def replace_char(value):\n",
    "#     return value.replace('–', '-')\n",
    "\n",
    "# def replace_ad(value):\n",
    "#     return value.replace('analista de desenvolvimento', 'desenvolvedor')\n",
    "\n",
    "# def replace_ad(value):\n",
    "#     return value.replace('analista de desenvolvimento', 'desenvolvedor')\n",
    "\n",
    "# def replace_as(value):\n",
    "#     return value.replace('desenvolvedor de software', 'desenvolvedor')\n",
    "\n",
    "# def replace_fullstack(value):\n",
    "#     value = value.replace('desenvolvedor .net/', 'desenvolvedor .net ')\n",
    "#     return value.replace('fullstack', 'full stack')\n",
    "\n",
    "# df.titulo = df.titulo.apply(replace_lower)\n",
    "# df.titulo = df.titulo.apply(replace_char)\n",
    "# df.titulo = df.titulo.apply(replace_ad)\n",
    "# df.titulo = df.titulo.apply(replace_as)\n",
    "# df.titulo = df.titulo.apply(replace_fullstack)"
   ]
  },
  {
   "cell_type": "code",
   "execution_count": 85,
   "metadata": {},
   "outputs": [
    {
     "data": {
      "text/plain": [
       "(219, 174)"
      ]
     },
     "execution_count": 85,
     "metadata": {},
     "output_type": "execute_result"
    }
   ],
   "source": [
    "len(df.titulo), df.titulo.nunique()"
   ]
  },
  {
   "cell_type": "code",
   "execution_count": 86,
   "metadata": {},
   "outputs": [],
   "source": [
    "vagas = df.titulo.unique() "
   ]
  },
  {
   "cell_type": "code",
   "execution_count": 87,
   "metadata": {},
   "outputs": [
    {
     "data": {
      "text/plain": [
       "array(['Desenvolvedor iOS (Pleno/Sênior)', 'Desenvolvedor Android',\n",
       "       'Desenvolvedor de Software .NET Pleno',\n",
       "       'Estágio em desenvolvimento e testes de software.',\n",
       "       'Auxiliar tecnico Teste de software - PCD',\n",
       "       'Estágio em Integração de Software/ Android',\n",
       "       'Especialista em Gestão de Produto',\n",
       "       'Analista de Software Web (JAVA/C#)',\n",
       "       'Estágio em desenvolvimento Android',\n",
       "       'Analista de desenvolvimento .NET',\n",
       "       'Desenvolvedor de Software PL/SQL - OracleEBS',\n",
       "       'Analista de Automação de Testes de Software ', 'Product Owner',\n",
       "       'Estágio em desenvolvimento Full stack',\n",
       "       'Asssitente Fiscal  - Contrato por tempo determinado',\n",
       "       'Estágio em testes de software/mobile',\n",
       "       'Especialista em Gestão de ciclo de Produto (soluções mobile)',\n",
       "       'DevOps/Software Configuration Management', 'Desenvolvedor Web',\n",
       "       'CM (Software Configuration Management)', 'Analista de Testes/QA',\n",
       "       'Analista de Software – User Trial',\n",
       "       'Analista de software – Testes/Triagem',\n",
       "       'Analista de Software - Líder Técnico (Integração de Software Android)',\n",
       "       'Analista de Software – Cientista de dados',\n",
       "       'Analista de Software – Automação de testes',\n",
       "       'Analista de Software Android (Integração/validação de Software)',\n",
       "       'Estágio em Desenvolvimento de Software',\n",
       "       'Analista em Teste e Automação de testes', 'Desenvolvedor Python',\n",
       "       'Gerente comercial – Segmento de P&D+I',\n",
       "       'Consultor/representante de vendas – Segmento de agronegócio',\n",
       "       'Consultor/representante de vendas – Segmento de Saúde',\n",
       "       'Analista/Engenheiro de Software C/C++ (Câmera/Android)',\n",
       "       'Analista/Engenheiro de Software C/C++  (LBS/WiFi/Android)',\n",
       "       'Assistente administrativo ',\n",
       "       'Estágio técnico em eletrônica/Telecom', 'Cientista de Dados',\n",
       "       'Desenvolvedor de Software .NET/C#', 'Instrutor em IOS',\n",
       "       'Desenvolvedor Web (C#/Angular)', 'Desenvolvedor Android/CM',\n",
       "       'Analista de Software - Processamento de Imagens/Machine Learning',\n",
       "       'Estágio em integração de software - Android',\n",
       "       'Estágio em desenvolvimento de Software - Android',\n",
       "       'Automação de Testes de Software',\n",
       "       'Desenvolvedor de Software .NET - para automação de testes',\n",
       "       'Arquiteto de Engenharia de Software', 'Desenvolvedor .Net',\n",
       "       'Engenheiro/Analista de Software C++ (Câmera/Android)',\n",
       "       'Desenvolvedor Web (C#)', 'Instrutor iOS',\n",
       "       ' Analista/Desenvolvedor de Software .NET',\n",
       "       'Analista de Software – Processamento de imagens',\n",
       "       'Analista de Software – QA/Python', 'Desenvolvedor Java Web',\n",
       "       'Desenvolvedor Android ',\n",
       "       'Engenheiro de Telecomunicações (Modem/Protocolos de rede)',\n",
       "       'Analista/Engenheiro de Software Android/Security',\n",
       "       'Analista/Engenheiro de Software Android/Kernel',\n",
       "       'Desenvolvedor Java (Cloud Platforms)',\n",
       "       'Designer Gráfico – Aplicações móveis',\n",
       "       'Analista de Software Android – Customização/Bugfix',\n",
       "       ' Estágio em Testes de Software – Android e iOS',\n",
       "       'Desenvolvedor Javascript Full Stack',\n",
       "       'Desenvolvedor Android/Líder Técnico',\n",
       "       'Estágio em desenvolvimento de Software – Android',\n",
       "       'Analista de Testes de Software – Android e iOS',\n",
       "       'Analista de Software .NET',\n",
       "       'Técnico em Saúde e segurança do trabalho',\n",
       "       'Desenvolvedor mobile híbrido ', 'Analista de UT',\n",
       "       'Líder técnico Android',\n",
       "       'Estágio em testes de software/hardware Android',\n",
       "       'Estágio - Sistemas embarcados/Android',\n",
       "       'Analista/Engenheiro de Testes para plataforma Android (Kernel)',\n",
       "       'Instrutor/Desenvolvedor de Software iOS',\n",
       "       'Estágio em Design Gráfico', 'Instrutor e Desenvolvedor IOS',\n",
       "       'Líder de Integração de Software', 'Analista de Compras',\n",
       "       'Desenvolvedor Android - Aplicativos para Câmera/Multimídia',\n",
       "       'Analista de Software – Test Command/C/C++',\n",
       "       'Desenvolvedor Android – Aplicações VoIP',\n",
       "       'Analista de Software JAVA', 'Estágio em IOT',\n",
       "       'Desenvolvedor JAVA', 'Analista de Testes de Software - Android',\n",
       "       'Estágio em Telecomunicações (Modem/Protocolos de rede)',\n",
       "       'Analista de Automação de Testes', 'Desenvolvedor iOS',\n",
       "       'Analista Testes de Software ', 'Desenvolvedor Cloud',\n",
       "       'Analista de Software - Processamento de Imagem e vídeo',\n",
       "       'Estágio em desenvolvimento de Software',\n",
       "       'Desenvolvedor Java/Javascript', 'Desenvolvedor JAVA/Android',\n",
       "       'Analista de Software – Processamento de Imagens (soluções de câmera)',\n",
       "       'Analista de Machine Learning Sênior',\n",
       "       'Analista de Software - Soluções de áudio',\n",
       "       'Desenvolvedor Server/Backend',\n",
       "       'Analista/Engenheiro de Software (Kernel & Security) Android',\n",
       "       'Analista/ Engenheiro de Software Java/Android',\n",
       "       'Estágio em Desenvolvimento de Software Java',\n",
       "       'Auxiliar Administrativo - PCD', 'Desenvolvedor JAVA/Web',\n",
       "       'Analista de Segurança da Informação ', 'Analista de Marketing',\n",
       "       'Estágio de Férias', 'Estagio em Testes Manuais ',\n",
       "       'Analista de Testes Pleno',\n",
       "       'Líder Técnico Integração de Software Android',\n",
       "       'Estágio em testes - Aplicações Android', 'Líder Técnico',\n",
       "       'Estágio em testes de Software – Android e iOS', 'Designer UX/UI ',\n",
       "       'Desenvolvedor Java Web ',\n",
       "       'Estágio em Desenvolvimento de Software C++',\n",
       "       'Estágio técnico em eletrônica/Telecomunicações',\n",
       "       'Estágio em integração de software – Android',\n",
       "       'Analista Machine Learning', 'Administrador de Sistemas Jira',\n",
       "       'Analista de processos/Qualidade Júnior',\n",
       "       'Estágio em Análise de Dados com Machine Learning',\n",
       "       'Analista de Dados/BI', 'Desenvolvedor .NET',\n",
       "       'Arquiteto de Software .NET',\n",
       "       'Analista de Software (Android/Conectividade)',\n",
       "       'Analista de Negócio - Oracle EBS',\n",
       "       'Estágio em Desenvolvimento .net/C#', 'Designer',\n",
       "       'Analista de Machine Learning', 'Estágio em desenvolvimento .NET',\n",
       "       'Desenvolvedor JAVA Web ',\n",
       "       'Consultor de Negócios– Segmento de Saúde/TIC',\n",
       "       'Desenvolvedor IOS', 'Analista de projetos - PMO',\n",
       "       'Estágio em performance Android (Validação e desenvolvimento)',\n",
       "       'Auxiliar Administrativo - PcD', 'Estágio em Machine Learning',\n",
       "       'Estágio em desenvolvimento Web',\n",
       "       'Estágio em Desenvolvimento em PL/SQL/EBS',\n",
       "       'Estágio em UI/UX Design', 'Designer UX/UI',\n",
       "       'Analista de Software – Programas de User trial',\n",
       "       'Desenvolvedor Fullstack C# .NET Javascript (React)',\n",
       "       'Analista de Software – Desenvolvimento GPU/HVX',\n",
       "       'Analista de Software – Processamento de imagens digitais em ISP/DSP',\n",
       "       'Analista de Software – Aprendizado de Máquina e Visão Computacional',\n",
       "       'Desenvolvedor JAVA/Cloud', 'Analista de Redes',\n",
       "       'Desenvolvedor de Software .NET',\n",
       "       'Consultor de Negócios – Segmento de Energia',\n",
       "       'Analista de Software - DevOps',\n",
       "       'Desenvolvedor C/Android Embarcado ',\n",
       "       'Analista de Software Java/Android', 'Desenvolvedor iOS ',\n",
       "       'Desenvolvedor Android (Java e JNI com C e C++)', 'Estágio em BI',\n",
       "       'Estágio em C/Linux',\n",
       "       'Desenvolvedor C# - Soluções em Machine Learning',\n",
       "       'Analista de Software – Processamento de Imagens',\n",
       "       'Analista de Telecomunicações', 'Cientista de dados',\n",
       "       'Verificador de IP e SoC', 'Desenvolvedor Java ',\n",
       "       'Estágio em desenvolvimento Java ',\n",
       "       'Desenvolvedor .NET Full Stack',\n",
       "       'Analista de Segurança da Informação',\n",
       "       'Estagiario Comercial Técnico', 'Líder de Implantação de Software',\n",
       "       'Analista de Software – Realidade virtual ',\n",
       "       'Desenvolvedor .NET/FullStack',\n",
       "       'Estágio em integração de Software/Android'], dtype=object)"
      ]
     },
     "execution_count": 87,
     "metadata": {},
     "output_type": "execute_result"
    }
   ],
   "source": [
    "vagas"
   ]
  },
  {
   "cell_type": "code",
   "execution_count": 88,
   "metadata": {},
   "outputs": [],
   "source": [
    "with open('./vagas_original.csv', 'w') as infile:\n",
    "    for vaga in vagas:\n",
    "        vaga = vaga.title()\n",
    "        if '.Net' in vaga:\n",
    "            vaga = vaga.replace('.Net', '.NET')\n",
    "\n",
    "        infile.write('{}\\n'.format(vaga))"
   ]
  },
  {
   "cell_type": "code",
   "execution_count": null,
   "metadata": {},
   "outputs": [],
   "source": []
  }
 ],
 "metadata": {
  "kernelspec": {
   "display_name": "Python 3",
   "language": "python",
   "name": "python3"
  },
  "language_info": {
   "codemirror_mode": {
    "name": "ipython",
    "version": 3
   },
   "file_extension": ".py",
   "mimetype": "text/x-python",
   "name": "python",
   "nbconvert_exporter": "python",
   "pygments_lexer": "ipython3",
   "version": "3.6.8"
  }
 },
 "nbformat": 4,
 "nbformat_minor": 2
}
